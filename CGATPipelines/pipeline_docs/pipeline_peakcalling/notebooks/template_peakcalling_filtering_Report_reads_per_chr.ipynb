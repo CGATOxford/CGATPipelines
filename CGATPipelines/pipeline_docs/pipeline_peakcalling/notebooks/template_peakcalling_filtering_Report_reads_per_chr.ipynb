{
 "cells": [
  {
   "cell_type": "markdown",
   "metadata": {},
   "source": [
    "Peakcalling Bam Stats and Filtering Report - Reads per Chromsome\n",
    "================================================================\n",
    "\n",
    "This notebook is for the analysis of outputs from the peakcalling pipeline \n",
    "\n",
    "There are severals stats that you want collected and graphed  (topics covered in this notebook in bold).\n",
    "\n",
    "These are: \n",
    "\n",
    "- how many reads input\n",
    "- how many reads removed at each step (numbers and percentages)\n",
    "- how many reads left after filtering\n",
    "- **how many reads mapping to each chromosome before filtering**? \n",
    "- **how many reads mapping to each chromosome after filtering**?\n",
    "- **X:Y reads ratio** \n",
    "- inset size distribution after filtering for PE reads \n",
    "- samtools flags - check how many reads are in categories they shouldn't be \n",
    "- picard stats - check how many reads are in categories they shouldn't be \n",
    "\n",
    "\n",
    "This notebook takes the sqlite3 database created by CGAT peakcalling_pipeline.py and uses it for plotting the above statistics \n",
    "\n",
    "It assumes a file directory of: \n",
    "\n",
    "        location of database = project_folder/csvdb\n",
    "\n",
    "        location of this notebook = project_folder/notebooks.dir/"
   ]
  },
  {
   "cell_type": "markdown",
   "metadata": {},
   "source": [
    "Reads per Chromosome\n",
    "--------------------\n",
    "This section get the reads per chromosome counts - this is helpful to see whether all reads are mapping to a particular contig. \n",
    "This is especially usefull for checking ATAC-Seq quality as Mitocondrial reads are over repressented in ATAC-Seq samples"
   ]
  },
  {
   "cell_type": "markdown",
   "metadata": {},
   "source": [
    "Firstly lets load all the things that might be needed"
   ]
  },
  {
   "cell_type": "code",
   "execution_count": null,
   "metadata": {
    "collapsed": true
   },
   "outputs": [],
   "source": [
    "import sqlite3\n",
    "\n",
    "import pandas as pd\n",
    "import numpy as np\n",
    "%matplotlib inline\n",
    "\n",
    "import matplotlib\n",
    "import numpy as np\n",
    "import matplotlib.pyplot as plt\n",
    "import CGATPipelines.Pipeline as P\n",
    "import os\n",
    "import statistics\n",
    "import collections\n",
    "#load R and the R packages required\n",
    "%load_ext rpy2.ipython\n",
    "%R require(ggplot2)\n",
    "\n",
    "#  use these functions to display tables nicely as html \n",
    "from IPython.display import display, HTML\n",
    "plt.style.use('bmh')\n",
    "#look at other available styles for plotting\n",
    "#plt.style.available"
   ]
  },
  {
   "cell_type": "markdown",
   "metadata": {},
   "source": [
    "This is where we are and when the notebook was run\n"
   ]
  },
  {
   "cell_type": "code",
   "execution_count": null,
   "metadata": {
    "collapsed": true
   },
   "outputs": [],
   "source": [
    "!pwd\n",
    "!date"
   ]
  },
  {
   "cell_type": "markdown",
   "metadata": {},
   "source": [
    "First lets set the output path for where we want our plots to be saved and the database path and see what tables it contains"
   ]
  },
  {
   "cell_type": "code",
   "execution_count": null,
   "metadata": {
    "collapsed": true
   },
   "outputs": [],
   "source": [
    "database_path ='../csvdb'\n",
    "output_path = '.'"
   ]
  },
  {
   "cell_type": "markdown",
   "metadata": {},
   "source": [
    "This code adds a button to see/hide code in html "
   ]
  },
  {
   "cell_type": "code",
   "execution_count": null,
   "metadata": {
    "collapsed": true
   },
   "outputs": [],
   "source": [
    "\n",
    "HTML('''<script>\n",
    "code_show=true; \n",
    "function code_toggle() {\n",
    " if (code_show){\n",
    " $('div.input').hide();\n",
    " } else {\n",
    " $('div.input').show();\n",
    " }\n",
    " code_show = !code_show\n",
    "} \n",
    "$( document ).ready(code_toggle);\n",
    "</script>\n",
    "<form action=\"javascript:code_toggle()\"><input type=\"submit\" value=\"Click here to toggle on/off the raw code.\"></form>''')\n"
   ]
  },
  {
   "cell_type": "markdown",
   "metadata": {},
   "source": [
    "The code below provides functions for accessing the project database and extract a table names so you can see what tables have been loaded into the database and are available for plotting. It also has a function for geting table from the database and indexing the table with the track name"
   ]
  },
  {
   "cell_type": "code",
   "execution_count": null,
   "metadata": {
    "collapsed": true
   },
   "outputs": [],
   "source": [
    "def getTableNamesFromDB(database_path):\n",
    "    # Create a SQL connection to our SQLite database\n",
    "    con = sqlite3.connect(database_path)\n",
    "    cur = con.cursor()\n",
    "    # the result of a \"cursor.execute\" can be iterated over by row\n",
    "    cur.execute(\"SELECT name FROM sqlite_master WHERE type='table' ORDER BY name;\")\n",
    "    available_tables = (cur.fetchall())\n",
    "    #Be sure to close the connection.\n",
    "    con.close()\n",
    "    return available_tables\n",
    "\n",
    "db_tables = getTableNamesFromDB(database_path)\n",
    "print('Tables contained by the database:')\n",
    "for x in db_tables: \n",
    "    print('\\t\\t%s' % x[0])\n",
    "    \n",
    "#This function retrieves a table from sql database and indexes it with track name\n",
    "def getTableFromDB(statement,database_path):\n",
    "    '''gets table from sql database depending on statement\n",
    "    and set track as index if contains track in column names'''\n",
    "    conn = sqlite3.connect(database_path)\n",
    "    df = pd.read_sql_query(statement,conn)\n",
    "    if 'track' in df.columns:\n",
    "        df.index = df['track']\n",
    "    return df"
   ]
  },
  {
   "cell_type": "markdown",
   "metadata": {},
   "source": [
    "Here are some functions we need "
   ]
  },
  {
   "cell_type": "code",
   "execution_count": null,
   "metadata": {
    "collapsed": true
   },
   "outputs": [],
   "source": [
    "###These are functions used to manipulate the table so order of chromsomes is consistent with numbers \n",
    "def StrIsInt(string):\n",
    "    '''function that takes string and tests if it can be represented as an int\n",
    "    e.g. returns true for \"3\", but False for \"Chr3\" '''\n",
    "    try: \n",
    "        int(string)\n",
    "        return True\n",
    "    except ValueError:\n",
    "        return False\n",
    "\n",
    "\n",
    "def orderListOfChr(unordered_chr_list):\n",
    "    '''take a list of chromosomes  and return them in \n",
    "    order of chromosome number not string order\n",
    "    e.g. input = [\"chr1\",'chr11\",\"chr2\",\"chrM\"]\n",
    "    output = [\"chr1\",'chr2\",\"chr11\",\"chrM\"]'''\n",
    "    \n",
    "    #make a empty list same length as chromosomes\n",
    "    chr_id = [None]* len(unordered_chr_list)\n",
    "    \n",
    "    for value in unordered_chr_list:\n",
    "        x = value.split(\"chr\")[-1]\n",
    "        \n",
    "        # check if chr name is int or str\n",
    "        if StrIsInt(x):\n",
    "            chr_id[int(x)-1] = value\n",
    "        else:\n",
    "            chr_id.append(value)\n",
    "    \n",
    "    #remove none values from list\n",
    "    ordered_chr_list = [x for x in chr_id if x is not None]\n",
    "    return ordered_chr_list\n",
    "    \n",
    "\n",
    "def reorderDFbyChrOrder(df):\n",
    "    '''Takes a dataframe indexed on chr name \n",
    "    and returns dataframe so that index is sorted based on the\n",
    "    chromosome number\n",
    "    e.g.dataframe with index chr1,chr11,chr12,chr2,chrM\n",
    "    will be returned with rows in the order \"chr1, chr2, chr11, chr12, chrM\" '''\n",
    "    \n",
    "    list_of_reordered_chr = orderListOfChr(df.index)\n",
    "    return df.reindex(list_of_reordered_chr)\n",
    "\n",
    "# this subsets dataframe so only includes columns containing chr\n",
    "def getChrNames(df):\n",
    "    '''takes dataframe with chromocome names in columns and returns a list of the chromosomes present'''\n",
    "    to_keep = []\n",
    "    for item in df.columns:\n",
    "        if 'chr' in item:\n",
    "            to_keep.append(item)\n",
    "    return to_keep  \n"
   ]
  },
  {
   "cell_type": "markdown",
   "metadata": {},
   "source": [
    "Reads per Chromsome\n",
    "==================="
   ]
  },
  {
   "cell_type": "markdown",
   "metadata": {},
   "source": [
    "1) lets get IDXstats tabel from database lets look at total number of maapped reads per chromosome for each sample"
   ]
  },
  {
   "cell_type": "code",
   "execution_count": null,
   "metadata": {
    "collapsed": true
   },
   "outputs": [],
   "source": [
    "idxstats_df = getTableFromDB('select * from idxstats_reads_per_chromosome;',database_path)\n",
    "idxstats_df.index = idxstats_df['region']\n",
    "reads_per_chr_df = reorderDFbyChrOrder(idxstats_df.drop('region', 1))\n",
    "print ('this table shows million reads per chromosome')\n",
    "reads_per_chr_df.divide(1000000)"
   ]
  },
  {
   "cell_type": "markdown",
   "metadata": {},
   "source": [
    "Contigs that have been filtered should clearly show up with 0 reads across the row"
   ]
  },
  {
   "cell_type": "code",
   "execution_count": null,
   "metadata": {
    "collapsed": true
   },
   "outputs": [],
   "source": [
    " def makeReadsPerChrPlot(df,path):\n",
    "    '''takes table from database of chromosome lengths and makes individual plot for \n",
    "    each sample of how many reads map to each chromosome'''\n",
    "    to_keep = []\n",
    "    for item in df.columns:\n",
    "        if 'chr' in item:\n",
    "            to_keep.append(item)\n",
    "    \n",
    "    df = df[to_keep]\n",
    "    df = df.divide(1000000)\n",
    "    \n",
    "    #where plot will be sent to\n",
    "    file_path = \"/\".join([path,'mapped_reads_per_chromosome_plot.pdf'])\n",
    "    print ('figure_saved_to %s' % file_path)\n",
    "    \n",
    "    ax = df.T.plot(figsize=(11,5),\n",
    "                   xticks = range(len(to_keep)),\n",
    "                  title = 'Million reads mapped to each chromosome',\n",
    "                  ylim=(0,10))\n",
    "    \n",
    "    #set labels for plots\n",
    "    ax.set_xlabel(\"Contig\")\n",
    "    ax.set_ylabel(\"million reads\")\n",
    "    fig = matplotlib.figure.Figure()\n",
    "    ax.legend(bbox_to_anchor=(1.05, 1), loc=2, borderaxespad=0.)\n",
    "    matplotlib.pyplot.savefig(file_path, bbox_inches='tight')\n",
    "    matplotlib.pyplot.show()\n",
    "    \n",
    "makeReadsPerChrPlot(reads_per_chr_df.T,output_path)"
   ]
  },
  {
   "cell_type": "code",
   "execution_count": null,
   "metadata": {
    "collapsed": true
   },
   "outputs": [],
   "source": [
    "def makePercentReadsPerChrPlot(df,path):\n",
    "    '''takes the idxstats_reads_per_chromosome table from database and calculates percentage\n",
    "    of reads mapping to each chromosome and plots this for each chromosome and returns \n",
    "    percentage table'''\n",
    "    c = df.copy()\n",
    "    for item in c.columns:\n",
    "        if 'chr' not in item and item != 'total_reads':\n",
    "            c = c.drop(item,1)\n",
    "            \n",
    "    y = c.div(c.total_reads, axis ='index')*100\n",
    "    y = y.drop('total_reads',1)\n",
    "    file_path = \"/\".join([path,'percentage_mapped_reads_per_chromosome_plot.pdf'])\n",
    "    \n",
    "    print ('figure_saved_to %s' % file_path)\n",
    "    ax = y.T.plot(figsize=(10,5),\n",
    "                 xticks = range(len(y.columns)),\n",
    "                 title = 'Percentage of total input reads that map to each contig',\n",
    "                 ylim=(0,100))\n",
    "\n",
    "    ax.set_xlabel(\"Contig\")\n",
    "    ax.set_ylabel(\"percentage_reads\")\n",
    "    ax.legend(bbox_to_anchor=(1.05, 1), loc=2, borderaxespad=0.)\n",
    "    fig = matplotlib.figure.Figure()\n",
    "    matplotlib.pyplot.savefig(file_path, bbox_inches='tight')\n",
    "    matplotlib.pyplot.show()\n",
    "    return y\n",
    "\n",
    "percent_idxdf = makePercentReadsPerChrPlot(reads_per_chr_df.T,output_path)\n",
    "percent_idxdf.T"
   ]
  },
  {
   "cell_type": "code",
   "execution_count": null,
   "metadata": {
    "collapsed": true
   },
   "outputs": [],
   "source": [
    "len(reads_per_chr_df.columns)"
   ]
  },
  {
   "cell_type": "code",
   "execution_count": null,
   "metadata": {
    "collapsed": true
   },
   "outputs": [],
   "source": [
    " def makeReadsPerSampleChrPlot(df,path,subplot_dims):\n",
    "    '''takes table from database of chromosome lengths and makes individual plot for \n",
    "    each sample of how many reads map to each chromosome\n",
    "    subplot dims = tuples of the format (num_rows,num_cols)'''\n",
    "    to_keep = []\n",
    "    for item in df.columns:\n",
    "        if 'chr' in item:\n",
    "            to_keep.append(item)\n",
    "    \n",
    "    df = df[to_keep]\n",
    "    df = df.divide(1000000)\n",
    "    \n",
    "    #where plot will be sent to\n",
    "    file_path = \"/\".join([path,'mapped_reads_per_chromosome_per_sample_plot.pdf'])\n",
    "    print ('figure_saved_to %s' % file_path)\n",
    "    #plot as subplots- \n",
    "        # can change layout to be better layout=(num_rows,num_cols)\n",
    "        # returns a list of axis of the subplots - select the right axis to add labels\n",
    "    ax = df.T.plot(subplots=True,\n",
    "              figsize=(10,10),\n",
    "              layout = subplot_dims,\n",
    "              xticks = range(len(to_keep)),\n",
    "              title = 'Million reads mapped to each chromosome per sample',\n",
    "              ylim=(0,10))\n",
    "    \n",
    "    #set labels for plots\n",
    "    bottom_plot = ax[-1][0]\n",
    "    middle_plot = ((int(subplot_dims[0]/2), int(subplot_dims[1]/2)))\n",
    "    a = ax[middle_plot]\n",
    "    a.set_ylabel(\"million reads\")\n",
    "    fig = matplotlib.figure.Figure()\n",
    "    matplotlib.pyplot.savefig(file_path, bbox_inches='tight')\n",
    "    matplotlib.pyplot.show()\n",
    "    \n",
    "makeReadsPerSampleChrPlot(reads_per_chr_df.T,output_path,(len(reads_per_chr_df.T.columns),1))"
   ]
  },
  {
   "cell_type": "code",
   "execution_count": null,
   "metadata": {
    "collapsed": true
   },
   "outputs": [],
   "source": [
    "def makePercentReadsPerSampleChrPlot(df,path,subplot_dims):\n",
    "    '''takes the idxstats_reads_per_chromosome table from database and calculates percentage\n",
    "    of reads mapping to each chromosome and plots this for each chromosome and returns \n",
    "    percentage table'''\n",
    "    c = df.copy()\n",
    "    for item in c.columns:\n",
    "        if 'chr' not in item and item != 'total_reads':\n",
    "            c = c.drop(item,1)\n",
    "    y = c.div(c['total_reads'], axis ='index')*100\n",
    "    y = y.drop('total_reads',1)\n",
    "    file_path = \"/\".join([path,'percentage_mapped_reads_per_chromosome_per_sample_plot.pdf'])\n",
    "    \n",
    "    print ('figure_saved_to %s' % file_path)\n",
    "    ax = y.T.plot(subplots=True,\n",
    "                 layout = subplot_dims,\n",
    "                 figsize=(10,10),\n",
    "                 xticks = range(len(y.columns)),\n",
    "                 title = 'Percentage of total input reads that map to each contig',\n",
    "                 ylim=(0,100))\n",
    "\n",
    "    ax[-1][0].set_xlabel(\"Contig\")\n",
    "    middle_plot = ((int(subplot_dims[0]/2), int(subplot_dims[1]/2)))\n",
    "    ax[middle_plot].set_ylabel(\"percentage_reads\")\n",
    "    fig = matplotlib.figure.Figure()\n",
    "    matplotlib.pyplot.savefig(file_path, bbox_inches='tight')\n",
    "    matplotlib.pyplot.show()\n",
    "\n",
    "makePercentReadsPerSampleChrPlot(reads_per_chr_df.T,output_path,(len(reads_per_chr_df.columns),1))"
   ]
  },
  {
   "cell_type": "markdown",
   "metadata": {},
   "source": [
    "THIS IS WHERE YOU CAN WRITE YOU OWN SUMMARY:\n",
    "============================================\n",
    "\n",
    "From this notebook you will see how many reads map to each contig - hopefully it will show no reads mapping to any that you filtered out in the peakcalling pipeline - it shpould also shwo you id some chromsomes unexpectedly high mapping rates compared to others - remember chromsomes are often names in order of size so in therory chr1 is more likely to have the most reads mapping to it purely becuase it is the biggest "
   ]
  },
  {
   "cell_type": "markdown",
   "metadata": {},
   "source": [
    "Comparision of Reads mapping to X vs Y\n",
    "=======================================\n",
    "Lets look at the number of reads mapping to chrX compared to chrY this is helpful to determine and double check the sex of the samples "
   ]
  },
  {
   "cell_type": "code",
   "execution_count": null,
   "metadata": {
    "collapsed": true
   },
   "outputs": [],
   "source": [
    "x_vs_y_df = idxstats_df.drop('region', 1).T[['chrX','chrY']].copy()\n",
    "\n",
    "print (x_vs_y_df.head())\n",
    "x_vs_y_df['total_xy'] = x_vs_y_df.chrX + x_vs_y_df.chrY \n",
    "x_vs_y_df['percentX'] = x_vs_y_df.chrX/x_vs_y_df.total_xy * 100\n",
    "x_vs_y_df['percentY'] = x_vs_y_df.chrY/x_vs_y_df.total_xy * 100\n",
    "display(x_vs_y_df)\n",
    "\n",
    "#plot bar graph of number of thousand reads mapping to chrX vs chrY\n",
    "ax = x_vs_y_df[['chrX','chrY']].divide(1000).plot.bar()\n",
    "ax.set_ylabel('Thousand Reads (not pairs)')\n",
    "ax.legend(['chrX','chrY'], loc=2,bbox_to_anchor=(1.05, 1),borderaxespad=0. )\n",
    "ax.set_title('number of reads (not pairs) \\n mapping to chrX or chrY')\n",
    "\n",
    "\n",
    "# plot graph of percentage of reads mapping to either chr X or Y\n",
    "ax = x_vs_y_df[['percentX', 'percentY']].plot.bar(stacked=True)\n",
    "ax.legend(['chrX','chrY'], loc=2,bbox_to_anchor=(1.05, 1),borderaxespad=0. )\n",
    "ax.set_ylabel('percentage reads')\n",
    "ax.set_title('percentage of sex chromosome reads  mapping \\n to chrX or chrY')\n",
    "ax.set_ylim((0,110))"
   ]
  },
  {
   "cell_type": "markdown",
   "metadata": {},
   "source": [
    "WRITE YOUR COMMENTS HERE \n",
    "\n",
    "From the plots above you should be able to see which samples are male and which are female depending on the percentage of reads mapping to the Y chromosome"
   ]
  },
  {
   "cell_type": "code",
   "execution_count": null,
   "metadata": {
    "collapsed": true
   },
   "outputs": [],
   "source": []
  },
  {
   "cell_type": "code",
   "execution_count": null,
   "metadata": {
    "collapsed": true
   },
   "outputs": [],
   "source": [
    "def add_expt_to_df(dataframe):\n",
    "    ''' splits track name for example HsTh1-RATotal-R1.star into expt\n",
    "    featues, expt, sample_treatment and replicate and adds these as \n",
    "    collumns to the dataframe'''\n",
    "    expt = []\n",
    "    treatment = []\n",
    "    replicate = []\n",
    "    for value in dataframe.track:\n",
    "        #remone star label\n",
    "        #print value\n",
    "        x = value.split(\".\")\n",
    "        # split into design features\n",
    "        y = x[0].split('-')\n",
    "        expt.append(y[0])\n",
    "        treatment.append(y[1])\n",
    "        replicate.append(y[2])\n",
    "\n",
    "    if len(expt) == len(treatment) and len(expt)== len(replicate):\n",
    "        print ('all values in list correctly')\n",
    "    else:\n",
    "        print ('error in loading values into lists')\n",
    "\n",
    "    #add collums to dataframe \n",
    "    dataframe['expt_name'] = expt\n",
    "    dataframe['sample_treatment'] = treatment\n",
    "    dataframe['replicate'] = replicate\n",
    "\n",
    "    return dataframe"
   ]
  }
 ],
 "metadata": {
  "kernelspec": {
   "display_name": "Python 3",
   "language": "python",
   "name": "python3"
  },
  "language_info": {
   "codemirror_mode": {
    "name": "ipython",
    "version": 3
   },
   "file_extension": ".py",
   "mimetype": "text/x-python",
   "name": "python",
   "nbconvert_exporter": "python",
   "pygments_lexer": "ipython3",
   "version": "3.5.3"
  }
 },
 "nbformat": 4,
 "nbformat_minor": 1
}
