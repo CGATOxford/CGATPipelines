{
 "cells": [
  {
   "cell_type": "markdown",
   "metadata": {},
   "source": [
    "Peakcalling Peak Stats\n",
    "================================================================\n",
    "\n",
    "This notebook is for the analysis of outputs from the peakcalling pipeline relating to the quality of the peakcalling steps\n",
    "\n",
    "There are severals stats that you want collected and graphed - you can click on the links below to find the jupyter **notebooks** where you can directly interact with the code or the **html** files that can be opened in your web browser.\n",
    "\n",
    "Stats you should be interested in are: \n",
    "\n",
    "Quality of Bam files for Peakcalling \n",
    "------------------------------------\n",
    "- how many reads input: [notebook](./1_peakcalling_filtering_Report.ipynb) [html](./1_peakcalling_filtering_Report.html)\n",
    "- how many reads removed at each step (numbers and percentages): [notebook](./1_peakcalling_filtering_Report.ipynb) [html](./1_peakcalling_filtering_Report.html)\n",
    "- how many reads left after filtering: [notebook](./1_peakcalling_filtering_Report.ipynb) [html](./1_peakcalling_filtering_Report.html)\n",
    "- how many reads mapping to each chromosome before filtering?: [notebook](./2_peakcalling_filtering_Report_reads_per_chr.ipynb) [html](./2_peakcalling_filtering_Report_reads_per_chr.html)\n",
    "- how many reads mapping to each chromosome after filtering?: [notebook](./2_peakcalling_filtering_Report_reads_per_chr.ipynb) [html](./2_peakcalling_filtering_Report_reads_per_chr.html)\n",
    "- X:Y reads ratio: [notebook](./2_peakcalling_filtering_Report_reads_per_chr.ipynb) [html](./2_peakcalling_filtering_Report_reads_per_chr.html)\n",
    "- inset size distribution after filtering for PE reads: [notebook](./3_peakcalling_filtering_Report_insert_sizes.ipynb) [html](./3_peakcalling_filtering_Report_insert_sizes.html)\n",
    "- samtools flags - check how many reads are in categories they shouldn't be: [notebook](./1_peakcalling_filtering_Report.ipynb) [html](./1_peakcalling_filtering_Report.html)\n",
    "- [picard stats - check how many reads are in categories they shouldn't be: \n",
    "\n",
    "Peakcalling stats\n",
    "-----------------\n",
    "\n",
    "- Number of peaks called in each sample: [notebook](./4_peakcalling_peakstats.ipynb) [html](./4_peakcalling_peakstats.html)\n",
    "- Number of reads in peaks: [notebook](./4_peakcalling_peakstats.ipynb) [html](./4_peakcalling_peakstats.html)\n",
    "- Size distribution of the peaks\n",
    "- Location of peaks \n",
    "- correlation of peaks between samples \n",
    "- other things? \n",
    "\n",
    "- IDR stats \n",
    "- What peak lists are the best \n",
    "\n",
    "\n",
    "\n",
    "This notebook takes the sqlite3 database created by CGAT peakcalling_pipeline.py and uses it for plotting the above statistics \n",
    "\n",
    "It assumes a file directory of: \n",
    "\n",
    "        location of database = project_folder/csvdb\n",
    "\n",
    "        location of this notebook = project_folder/notebooks.dir/"
   ]
  },
  {
   "cell_type": "markdown",
   "metadata": {},
   "source": [
    "Firstly lets load all the things that might be needed"
   ]
  },
  {
   "cell_type": "markdown",
   "metadata": {},
   "source": [
    "This is where we are and when the notebook was run\n"
   ]
  },
  {
   "cell_type": "code",
   "execution_count": 2,
   "metadata": {},
   "outputs": [
    {
     "name": "stdout",
     "output_type": "stream",
     "text": [
      "/Users/charlotteg/Documents/7_BassonProj/Mar17\n",
      "Sat 11 Mar 2017 19:50:55 GMT\n"
     ]
    }
   ],
   "source": [
    "!pwd\n",
    "!date"
   ]
  }
 ],
 "metadata": {
  "kernelspec": {
   "display_name": "Python 3",
   "language": "python",
   "name": "python3"
  },
  "language_info": {
   "codemirror_mode": {
    "name": "ipython",
    "version": 2
   },
   "file_extension": ".py",
   "mimetype": "text/x-python",
   "name": "python",
   "nbconvert_exporter": "python",
   "pygments_lexer": "ipython2",
   "version": "2.7.11"
  }
 },
 "nbformat": 4,
 "nbformat_minor": 1
}
