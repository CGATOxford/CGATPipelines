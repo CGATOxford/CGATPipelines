{
 "cells": [
  {
   "cell_type": "raw",
   "metadata": {},
   "source": [
    "<script>\n",
    "  jQuery(document).ready(function($) {\n",
    "\n",
    "  $(window).load(function(){\n",
    "    $('#preloader').fadeOut('slow',function(){$(this).remove();});\n",
    "  });\n",
    "\n",
    "  });\n",
    "</script>\n",
    "\n",
    "<style type=\"text/css\">\n",
    "  div#preloader { position: fixed;\n",
    "      left: 0;\n",
    "      top: 0;\n",
    "      z-index: 999;\n",
    "      width: 100%;\n",
    "      height: 100%;\n",
    "      overflow: visible;\n",
    "      background: #fff url('http://preloaders.net/preloaders/720/Moving%20line.gif') no-repeat center center;\n",
    "  }\n",
    "</style>\n",
    "<div id=\"preloader\"></div>"
   ]
  },
  {
   "cell_type": "raw",
   "metadata": {},
   "source": [
    "<script>\n",
    "  function code_toggle() {\n",
    "    if (code_shown){\n",
    "      $('div.input').hide('500');\n",
    "      $('#toggleButton').val('Show Code')\n",
    "    } else {\n",
    "      $('div.input').show('500');\n",
    "      $('#toggleButton').val('Hide Code')\n",
    "    }\n",
    "    code_shown = !code_shown\n",
    "  }\n",
    "\n",
    "  $( document ).ready(function(){\n",
    "    code_shown=false;\n",
    "    $('div.input').hide()\n",
    "  });\n",
    "</script>"
   ]
  },
  {
   "cell_type": "markdown",
   "metadata": {},
   "source": [
    "<div class=\"header\">\n",
    "  <img src=\"cgat_logo.jpeg\" alt=\"logo\" style=\"float:left;width:150px; height:150px\"/> \n",
    "  <img src=\"wimm.png\" alt=\"logo\" style=\"float:right;width:150px; height:140px\"/> \n",
    " <center><b><font size=\"5\" color='firebrick'>CGAT BAMStats Report: for summarizing various information from BAM alignment files</font> </b></center>\n",
    "</div>\n",
    "\n",
    "<div class=\"footer\">\n",
    "  <img src=\"oxford.png\" alt=\"logo\" style=\"float:right;width:150px; height:50px\"/> \n",
    "</div>\n",
    "\n"
   ]
  },
  {
   "cell_type": "markdown",
   "metadata": {},
   "source": [
    " <font size=\"4\"> Typically in a sequencing experiment a lot of focus is directed towards ensuring that the quality control of fastq files is good. However, equally important is quality checking the mapping. Currently there are a number of cgat specific and external tools that have been developed to assess this.\n",
    " <br><br>\n",
    "    The aim of this report is to collate the quality statistics generated from these tools accross your bam files following mapping. The pipeline inputs a bam file and then runs the following tools:<font size=\"4\">\n",
    "<br><br><br>\n",
    "\n"
   ]
  },
  {
   "cell_type": "markdown",
   "metadata": {},
   "source": [
    "<table id=\"CGAT REPORT\">\n",
    "<tr>\n",
    "  <th> Tools </th>\n",
    "  <th> Description </th>\n",
    "</tr>\n",
    "<tr>\n",
    "  <td>IdxStats</td>\n",
    "  <td>Samtools idxstats is ran and this calculates\n",
    "         the number of mapped and unmapped reads per contig.</td>\n",
    "</tr>\n",
    "<tr>\n",
    "   <td>BamStats</td>\n",
    "   <td>This is a CGAT script (bam2stats) that performs stats\n",
    "        on a bam file and outputs alignment statistics</td>\n",
    "</tr>\n",
    "<tr>\n",
    "    <td>PicardStats</td>\n",
    "     <td>This runs to CollectRnaSeqMetrics picard tools</td>\n",
    "</tr>\n",
    "<tr>\n",
    "    <td>StrandSpec</td>\n",
    "    <td>Gives a measure of the proportion of reads that map to\n",
    "        each strand. Is used to work out strandness of library\n",
    "        if unknown</td>\n",
    "</tr>\n",
    "<tr>\n",
    "    <td>nreads</td>\n",
    "    <td>Calculates the number of reads in the bam file.</td>\n",
    "</tr>\n",
    "<tr>\n",
    "     <td>Paired_QC</td>\n",
    "     <td>This contains metrics that are only required for paired\n",
    "         end seqencing. Exon validation is perfomred using the cgat script\n",
    "         bam_vs_gtf. Most of the statistics concern \n",
    "         splicing</td>\n",
    " </tr>\n",
    "</table>"
   ]
  },
  {
   "cell_type": "markdown",
   "metadata": {},
   "source": [
    "#### Please find links below to access the report:\n",
    "\n",
    "<b> <a style=\"cursor:pointer;\" href=\"CGAT_context_stats_report.html\">Context Stats Report</a> </b>\n",
    "\n",
    "<b> <a style=\"cursor:pointer;\" href=\"CGAT_idx_stats_report.html\">Idx Stats Report</a> </b>\n",
    "\n",
    "<b> <a style=\"cursor:pointer;\" href=\"CGAT_fragment_library_type_report.html\">Fragment Library Type Report</a> </b>\n",
    "\n",
    "<b> <a style=\"cursor:pointer;\" href=\"CGAT_picardstats_report.html\">Picard Stats Report</a> </b>\n",
    "\n",
    "<b> <a style=\"cursor:pointer;\" href=\"CGAT_transcript_profile_report.html\">Transcript Profile Report</a> </b>\n",
    "\n",
    "<b> <a style=\"cursor:pointer;\" href=\"CGAT_bamstats_report.html\">Bamstats Report</a> </b>\n",
    "\n",
    "<b> <a style=\"cursor:pointer;\" href=\"CGAT_exon_validation_report.html\">Exon validation Report</a> </b>\n"
   ]
  },
  {
   "cell_type": "raw",
   "metadata": {},
   "source": [
    "<script>\n",
    "  $(document).ready(function(){\n",
    "    $('div.prompt').hide();\n",
    "    $('div.back-to-top').hide();\n",
    "    $('nav#menubar').hide();\n",
    "    $('.breadcrumb').hide();\n",
    "    $('.hidden-print').hide();\n",
    "  });\n",
    "</script>\n",
    "\n",
    "<footer id=\"attribution\" style=\"float:right; color:#999; background:#fff;\">\n",
    "Created with Jupyter,by Reshma.\n",
    "</footer>"
   ]
  }
 ],
 "metadata": {
  "kernelspec": {
   "display_name": "Python 3",
   "language": "python",
   "name": "python3"
  },
  "language_info": {
   "codemirror_mode": {
    "name": "ipython",
    "version": 3
   },
   "file_extension": ".py",
   "mimetype": "text/x-python",
   "name": "python",
   "nbconvert_exporter": "python",
   "pygments_lexer": "ipython3",
   "version": "3.5.3"
  }
 },
 "nbformat": 4,
 "nbformat_minor": 2
}
